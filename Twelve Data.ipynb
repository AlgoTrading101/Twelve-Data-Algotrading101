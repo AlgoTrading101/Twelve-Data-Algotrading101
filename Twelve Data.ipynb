{
 "cells": [
  {
   "cell_type": "code",
   "execution_count": 1,
   "id": "f4e3e085",
   "metadata": {},
   "outputs": [],
   "source": [
    "import requests\n",
    "import pandas as pd\n",
    "\n",
    "url = 'https://api.twelvedata.com/'\n",
    "api = 'cde163fb12a8467bb3934a6170d32a5c'"
   ]
  },
  {
   "cell_type": "markdown",
   "id": "c8711a1f",
   "metadata": {},
   "source": [
    "# All stocks"
   ]
  },
  {
   "cell_type": "code",
   "execution_count": 4,
   "id": "35f24b72",
   "metadata": {},
   "outputs": [
    {
     "data": {
      "text/html": [
       "<div>\n",
       "<style scoped>\n",
       "    .dataframe tbody tr th:only-of-type {\n",
       "        vertical-align: middle;\n",
       "    }\n",
       "\n",
       "    .dataframe tbody tr th {\n",
       "        vertical-align: top;\n",
       "    }\n",
       "\n",
       "    .dataframe thead th {\n",
       "        text-align: right;\n",
       "    }\n",
       "</style>\n",
       "<table border=\"1\" class=\"dataframe\">\n",
       "  <thead>\n",
       "    <tr style=\"text-align: right;\">\n",
       "      <th></th>\n",
       "      <th>symbol</th>\n",
       "      <th>name</th>\n",
       "      <th>currency</th>\n",
       "      <th>exchange</th>\n",
       "      <th>country</th>\n",
       "      <th>type</th>\n",
       "    </tr>\n",
       "  </thead>\n",
       "  <tbody>\n",
       "    <tr>\n",
       "      <th>93674</th>\n",
       "      <td>ZZHGY</td>\n",
       "      <td>ZhongAn Online P &amp; C Insurance Co., Ltd.</td>\n",
       "      <td>USD</td>\n",
       "      <td>OTC</td>\n",
       "      <td>China</td>\n",
       "      <td>American Depositary Receipt</td>\n",
       "    </tr>\n",
       "    <tr>\n",
       "      <th>93675</th>\n",
       "      <td>ZZLL</td>\n",
       "      <td>ZZLL Information Technology, Inc.</td>\n",
       "      <td>USD</td>\n",
       "      <td>OTC</td>\n",
       "      <td>China</td>\n",
       "      <td>Common Stock</td>\n",
       "    </tr>\n",
       "    <tr>\n",
       "      <th>93676</th>\n",
       "      <td>ZZMS</td>\n",
       "      <td>Commerzbank AG</td>\n",
       "      <td>EUR</td>\n",
       "      <td>XSTU</td>\n",
       "      <td>Germany</td>\n",
       "      <td>Common</td>\n",
       "    </tr>\n",
       "    <tr>\n",
       "      <th>93677</th>\n",
       "      <td>ZZZ</td>\n",
       "      <td>SLEEP COUNTRY CANADA HOLDING</td>\n",
       "      <td>CAD</td>\n",
       "      <td>TSX</td>\n",
       "      <td>Canada</td>\n",
       "      <td>Common Stock</td>\n",
       "    </tr>\n",
       "    <tr>\n",
       "      <th>93678</th>\n",
       "      <td>ZZZOF</td>\n",
       "      <td>Zinc One Resources, Inc.</td>\n",
       "      <td>USD</td>\n",
       "      <td>OTC</td>\n",
       "      <td>Canada</td>\n",
       "      <td>Common Stock</td>\n",
       "    </tr>\n",
       "  </tbody>\n",
       "</table>\n",
       "</div>"
      ],
      "text/plain": [
       "      symbol                                      name currency exchange  \\\n",
       "93674  ZZHGY  ZhongAn Online P & C Insurance Co., Ltd.      USD      OTC   \n",
       "93675   ZZLL         ZZLL Information Technology, Inc.      USD      OTC   \n",
       "93676   ZZMS                            Commerzbank AG      EUR     XSTU   \n",
       "93677    ZZZ              SLEEP COUNTRY CANADA HOLDING      CAD      TSX   \n",
       "93678  ZZZOF                  Zinc One Resources, Inc.      USD      OTC   \n",
       "\n",
       "       country                         type  \n",
       "93674    China  American Depositary Receipt  \n",
       "93675    China                 Common Stock  \n",
       "93676  Germany                       Common  \n",
       "93677   Canada                 Common Stock  \n",
       "93678   Canada                 Common Stock  "
      ]
     },
     "execution_count": 4,
     "metadata": {},
     "output_type": "execute_result"
    }
   ],
   "source": [
    "stocks = pd.DataFrame(requests.get(\n",
    "                        url + 'stocks'\n",
    "                    ).json()['data']\n",
    "        )\n",
    "\n",
    "stocks.tail()"
   ]
  },
  {
   "cell_type": "markdown",
   "id": "484cd79b",
   "metadata": {},
   "source": [
    "# Forex"
   ]
  },
  {
   "cell_type": "code",
   "execution_count": 6,
   "id": "375c729c",
   "metadata": {},
   "outputs": [
    {
     "data": {
      "text/html": [
       "<div>\n",
       "<style scoped>\n",
       "    .dataframe tbody tr th:only-of-type {\n",
       "        vertical-align: middle;\n",
       "    }\n",
       "\n",
       "    .dataframe tbody tr th {\n",
       "        vertical-align: top;\n",
       "    }\n",
       "\n",
       "    .dataframe thead th {\n",
       "        text-align: right;\n",
       "    }\n",
       "</style>\n",
       "<table border=\"1\" class=\"dataframe\">\n",
       "  <thead>\n",
       "    <tr style=\"text-align: right;\">\n",
       "      <th></th>\n",
       "      <th>symbol</th>\n",
       "      <th>currency_group</th>\n",
       "      <th>currency_base</th>\n",
       "      <th>currency_quote</th>\n",
       "    </tr>\n",
       "  </thead>\n",
       "  <tbody>\n",
       "    <tr>\n",
       "      <th>1999</th>\n",
       "      <td>ZAR/USD</td>\n",
       "      <td>Exotic</td>\n",
       "      <td>South African Rand</td>\n",
       "      <td>US Dollar</td>\n",
       "    </tr>\n",
       "    <tr>\n",
       "      <th>2000</th>\n",
       "      <td>ZAR/VEF</td>\n",
       "      <td>Exotic-Cross</td>\n",
       "      <td>South African Rand</td>\n",
       "      <td>Venezuelan Bolivar</td>\n",
       "    </tr>\n",
       "    <tr>\n",
       "      <th>2001</th>\n",
       "      <td>ZAR/XAF</td>\n",
       "      <td>Exotic-Cross</td>\n",
       "      <td>South African Rand</td>\n",
       "      <td>Central African CFA franc</td>\n",
       "    </tr>\n",
       "    <tr>\n",
       "      <th>2002</th>\n",
       "      <td>ZAR/XCD</td>\n",
       "      <td>Exotic-Cross</td>\n",
       "      <td>South African Rand</td>\n",
       "      <td>East Caribbean Dollar</td>\n",
       "    </tr>\n",
       "    <tr>\n",
       "      <th>2003</th>\n",
       "      <td>ZAR/XOF</td>\n",
       "      <td>Exotic-Cross</td>\n",
       "      <td>South African Rand</td>\n",
       "      <td>West African CFA franc</td>\n",
       "    </tr>\n",
       "  </tbody>\n",
       "</table>\n",
       "</div>"
      ],
      "text/plain": [
       "       symbol currency_group       currency_base             currency_quote\n",
       "1999  ZAR/USD         Exotic  South African Rand                  US Dollar\n",
       "2000  ZAR/VEF   Exotic-Cross  South African Rand         Venezuelan Bolivar\n",
       "2001  ZAR/XAF   Exotic-Cross  South African Rand  Central African CFA franc\n",
       "2002  ZAR/XCD   Exotic-Cross  South African Rand      East Caribbean Dollar\n",
       "2003  ZAR/XOF   Exotic-Cross  South African Rand     West African CFA franc"
      ]
     },
     "execution_count": 6,
     "metadata": {},
     "output_type": "execute_result"
    }
   ],
   "source": [
    "forex = pd.DataFrame(requests.get(\n",
    "                        url + 'forex_pairs'\n",
    "                    ).json()['data']\n",
    "        )\n",
    "\n",
    "forex.tail()"
   ]
  },
  {
   "cell_type": "markdown",
   "id": "81fa2716",
   "metadata": {},
   "source": [
    "# Crypto"
   ]
  },
  {
   "cell_type": "code",
   "execution_count": 7,
   "id": "a5f8bacb",
   "metadata": {},
   "outputs": [
    {
     "data": {
      "text/html": [
       "<div>\n",
       "<style scoped>\n",
       "    .dataframe tbody tr th:only-of-type {\n",
       "        vertical-align: middle;\n",
       "    }\n",
       "\n",
       "    .dataframe tbody tr th {\n",
       "        vertical-align: top;\n",
       "    }\n",
       "\n",
       "    .dataframe thead th {\n",
       "        text-align: right;\n",
       "    }\n",
       "</style>\n",
       "<table border=\"1\" class=\"dataframe\">\n",
       "  <thead>\n",
       "    <tr style=\"text-align: right;\">\n",
       "      <th></th>\n",
       "      <th>symbol</th>\n",
       "      <th>available_exchanges</th>\n",
       "      <th>currency_base</th>\n",
       "      <th>currency_quote</th>\n",
       "    </tr>\n",
       "  </thead>\n",
       "  <tbody>\n",
       "    <tr>\n",
       "      <th>3535</th>\n",
       "      <td>ZSC/USD</td>\n",
       "      <td>[Gate.io]</td>\n",
       "      <td>Zeusshield</td>\n",
       "      <td>US Dollar</td>\n",
       "    </tr>\n",
       "    <tr>\n",
       "      <th>3536</th>\n",
       "      <td>ZUR/USD</td>\n",
       "      <td>[Synthetic]</td>\n",
       "      <td>Zurcoin</td>\n",
       "      <td>US Dollar</td>\n",
       "    </tr>\n",
       "    <tr>\n",
       "      <th>3537</th>\n",
       "      <td>ZYD/BTC</td>\n",
       "      <td>[YoBit]</td>\n",
       "      <td>Zayedcoin</td>\n",
       "      <td>Bitcoin</td>\n",
       "    </tr>\n",
       "    <tr>\n",
       "      <th>3538</th>\n",
       "      <td>ZYD/USD</td>\n",
       "      <td>[Synthetic]</td>\n",
       "      <td>Zayedcoin</td>\n",
       "      <td>US Dollar</td>\n",
       "    </tr>\n",
       "    <tr>\n",
       "      <th>3539</th>\n",
       "      <td>ZZC/USD</td>\n",
       "      <td>[Synthetic]</td>\n",
       "      <td>ZoZoCoin</td>\n",
       "      <td>US Dollar</td>\n",
       "    </tr>\n",
       "  </tbody>\n",
       "</table>\n",
       "</div>"
      ],
      "text/plain": [
       "       symbol available_exchanges currency_base currency_quote\n",
       "3535  ZSC/USD           [Gate.io]    Zeusshield      US Dollar\n",
       "3536  ZUR/USD         [Synthetic]       Zurcoin      US Dollar\n",
       "3537  ZYD/BTC             [YoBit]     Zayedcoin        Bitcoin\n",
       "3538  ZYD/USD         [Synthetic]     Zayedcoin      US Dollar\n",
       "3539  ZZC/USD         [Synthetic]      ZoZoCoin      US Dollar"
      ]
     },
     "execution_count": 7,
     "metadata": {},
     "output_type": "execute_result"
    }
   ],
   "source": [
    "crypto = pd.DataFrame(requests.get(\n",
    "                        url + 'cryptocurrencies'\n",
    "                    ).json()['data']\n",
    "        )\n",
    "\n",
    "crypto.tail()"
   ]
  },
  {
   "cell_type": "markdown",
   "id": "4310278a",
   "metadata": {},
   "source": [
    "# Symbol Search"
   ]
  },
  {
   "cell_type": "code",
   "execution_count": 11,
   "id": "8206aee3",
   "metadata": {},
   "outputs": [
    {
     "data": {
      "text/plain": [
       "[{'symbol': 'AA',\n",
       "  'instrument_name': 'Alcoa Corp',\n",
       "  'exchange': 'NYSE',\n",
       "  'exchange_timezone': 'America/New_York',\n",
       "  'instrument_type': 'Common Stock',\n",
       "  'country': 'United States',\n",
       "  'currency': 'USD'},\n",
       " {'symbol': 'AAPL',\n",
       "  'instrument_name': 'Apple Inc',\n",
       "  'exchange': 'NASDAQ',\n",
       "  'exchange_timezone': 'America/New_York',\n",
       "  'instrument_type': 'Common Stock',\n",
       "  'country': 'United States',\n",
       "  'currency': 'USD'},\n",
       " {'symbol': 'AALI',\n",
       "  'instrument_name': 'PT Astra Agro Lestari Tbk',\n",
       "  'exchange': 'IDX',\n",
       "  'exchange_timezone': 'Asia/Jakarta',\n",
       "  'instrument_type': '',\n",
       "  'country': 'Indonesia',\n",
       "  'currency': 'IDR'}]"
      ]
     },
     "execution_count": 11,
     "metadata": {},
     "output_type": "execute_result"
    }
   ],
   "source": [
    "requests.get(\n",
    "    url + 'symbol_search?symbol=AA'\n",
    ").json()['data'][:3]"
   ]
  },
  {
   "cell_type": "markdown",
   "id": "ab9c89f9",
   "metadata": {},
   "source": [
    "# Exchanges"
   ]
  },
  {
   "cell_type": "code",
   "execution_count": 12,
   "id": "3fe43723",
   "metadata": {},
   "outputs": [
    {
     "data": {
      "text/html": [
       "<div>\n",
       "<style scoped>\n",
       "    .dataframe tbody tr th:only-of-type {\n",
       "        vertical-align: middle;\n",
       "    }\n",
       "\n",
       "    .dataframe tbody tr th {\n",
       "        vertical-align: top;\n",
       "    }\n",
       "\n",
       "    .dataframe thead th {\n",
       "        text-align: right;\n",
       "    }\n",
       "</style>\n",
       "<table border=\"1\" class=\"dataframe\">\n",
       "  <thead>\n",
       "    <tr style=\"text-align: right;\">\n",
       "      <th></th>\n",
       "      <th>name</th>\n",
       "      <th>code</th>\n",
       "      <th>country</th>\n",
       "      <th>timezone</th>\n",
       "    </tr>\n",
       "  </thead>\n",
       "  <tbody>\n",
       "    <tr>\n",
       "      <th>76</th>\n",
       "      <td>CBOE</td>\n",
       "      <td>BATS</td>\n",
       "      <td>United States</td>\n",
       "      <td>America/New_York</td>\n",
       "    </tr>\n",
       "    <tr>\n",
       "      <th>77</th>\n",
       "      <td>NYSE</td>\n",
       "      <td>XNYS</td>\n",
       "      <td>United States</td>\n",
       "      <td>America/New_York</td>\n",
       "    </tr>\n",
       "    <tr>\n",
       "      <th>78</th>\n",
       "      <td>OTC</td>\n",
       "      <td>Expert Market</td>\n",
       "      <td>United States</td>\n",
       "      <td>America/New_York</td>\n",
       "    </tr>\n",
       "    <tr>\n",
       "      <th>79</th>\n",
       "      <td>NASDAQ</td>\n",
       "      <td>XNCM</td>\n",
       "      <td>United States</td>\n",
       "      <td>America/New_York</td>\n",
       "    </tr>\n",
       "    <tr>\n",
       "      <th>80</th>\n",
       "      <td>BVCC</td>\n",
       "      <td>BVCA</td>\n",
       "      <td>Venezuela</td>\n",
       "      <td>America/Caracas</td>\n",
       "    </tr>\n",
       "  </tbody>\n",
       "</table>\n",
       "</div>"
      ],
      "text/plain": [
       "      name           code        country          timezone\n",
       "76    CBOE           BATS  United States  America/New_York\n",
       "77    NYSE           XNYS  United States  America/New_York\n",
       "78     OTC  Expert Market  United States  America/New_York\n",
       "79  NASDAQ           XNCM  United States  America/New_York\n",
       "80    BVCC           BVCA      Venezuela   America/Caracas"
      ]
     },
     "execution_count": 12,
     "metadata": {},
     "output_type": "execute_result"
    }
   ],
   "source": [
    "exchanges = pd.DataFrame(requests.get(\n",
    "                        url + 'exchanges'\n",
    "                    ).json()['data']\n",
    "        )\n",
    "\n",
    "exchanges.tail()"
   ]
  },
  {
   "cell_type": "markdown",
   "id": "5d5a7cf7",
   "metadata": {},
   "source": [
    "# Time Series"
   ]
  },
  {
   "cell_type": "code",
   "execution_count": 21,
   "id": "7f197c75",
   "metadata": {},
   "outputs": [
    {
     "data": {
      "text/html": [
       "<div>\n",
       "<style scoped>\n",
       "    .dataframe tbody tr th:only-of-type {\n",
       "        vertical-align: middle;\n",
       "    }\n",
       "\n",
       "    .dataframe tbody tr th {\n",
       "        vertical-align: top;\n",
       "    }\n",
       "\n",
       "    .dataframe thead th {\n",
       "        text-align: right;\n",
       "    }\n",
       "</style>\n",
       "<table border=\"1\" class=\"dataframe\">\n",
       "  <thead>\n",
       "    <tr style=\"text-align: right;\">\n",
       "      <th></th>\n",
       "      <th>open</th>\n",
       "      <th>high</th>\n",
       "      <th>low</th>\n",
       "      <th>close</th>\n",
       "      <th>volume</th>\n",
       "      <th>20 SMA</th>\n",
       "    </tr>\n",
       "    <tr>\n",
       "      <th>datetime</th>\n",
       "      <th></th>\n",
       "      <th></th>\n",
       "      <th></th>\n",
       "      <th></th>\n",
       "      <th></th>\n",
       "      <th></th>\n",
       "    </tr>\n",
       "  </thead>\n",
       "  <tbody>\n",
       "    <tr>\n",
       "      <th>2021-12-22</th>\n",
       "      <td>3385.39990</td>\n",
       "      <td>3441.00000</td>\n",
       "      <td>3370.01001</td>\n",
       "      <td>3420.73999</td>\n",
       "      <td>2749800</td>\n",
       "      <td>3450.648030</td>\n",
       "    </tr>\n",
       "    <tr>\n",
       "      <th>2021-12-23</th>\n",
       "      <td>3408.56006</td>\n",
       "      <td>3439.50000</td>\n",
       "      <td>3403.00000</td>\n",
       "      <td>3421.37012</td>\n",
       "      <td>1837500</td>\n",
       "      <td>3442.696040</td>\n",
       "    </tr>\n",
       "    <tr>\n",
       "      <th>2021-12-27</th>\n",
       "      <td>3420.73999</td>\n",
       "      <td>3458.86011</td>\n",
       "      <td>3384.31006</td>\n",
       "      <td>3393.38989</td>\n",
       "      <td>2934400</td>\n",
       "      <td>3437.210035</td>\n",
       "    </tr>\n",
       "    <tr>\n",
       "      <th>2021-12-28</th>\n",
       "      <td>3403.64990</td>\n",
       "      <td>3443.52002</td>\n",
       "      <td>3382.70996</td>\n",
       "      <td>3413.21997</td>\n",
       "      <td>2731900</td>\n",
       "      <td>3429.792530</td>\n",
       "    </tr>\n",
       "    <tr>\n",
       "      <th>2021-12-29</th>\n",
       "      <td>3416.80005</td>\n",
       "      <td>3424.23999</td>\n",
       "      <td>3373.19507</td>\n",
       "      <td>3377.52002</td>\n",
       "      <td>430840</td>\n",
       "      <td>3423.315027</td>\n",
       "    </tr>\n",
       "  </tbody>\n",
       "</table>\n",
       "</div>"
      ],
      "text/plain": [
       "                  open        high         low       close   volume  \\\n",
       "datetime                                                              \n",
       "2021-12-22  3385.39990  3441.00000  3370.01001  3420.73999  2749800   \n",
       "2021-12-23  3408.56006  3439.50000  3403.00000  3421.37012  1837500   \n",
       "2021-12-27  3420.73999  3458.86011  3384.31006  3393.38989  2934400   \n",
       "2021-12-28  3403.64990  3443.52002  3382.70996  3413.21997  2731900   \n",
       "2021-12-29  3416.80005  3424.23999  3373.19507  3377.52002   430840   \n",
       "\n",
       "                 20 SMA  \n",
       "datetime                 \n",
       "2021-12-22  3450.648030  \n",
       "2021-12-23  3442.696040  \n",
       "2021-12-27  3437.210035  \n",
       "2021-12-28  3429.792530  \n",
       "2021-12-29  3423.315027  "
      ]
     },
     "execution_count": 21,
     "metadata": {},
     "output_type": "execute_result"
    }
   ],
   "source": [
    "historical = pd.DataFrame(requests.get(\n",
    "                        url + 'time_series?symbol=AMZN&interval=1day&apikey=' + api\n",
    "                    ).json()['values']\n",
    "        )\n",
    "\n",
    "historical.sort_values(by=['datetime'], ascending=True, inplace=True)\n",
    "historical.set_index('datetime', inplace=True)\n",
    "historical['20 SMA'] = historical.close.rolling(20).mean()\n",
    "historical.tail()"
   ]
  },
  {
   "cell_type": "code",
   "execution_count": 22,
   "id": "fd59f022",
   "metadata": {},
   "outputs": [
    {
     "data": {
      "application/vnd.plotly.v1+json": {
       "config": {
        "plotlyServerURL": "https://plot.ly"
       },
       "data": [
        {
         "close": [
          "3540.69995",
          "3549.00000",
          "3696.06006",
          "3676.57007",
          "3572.57007",
          "3580.56006",
          "3580.40991",
          "3503.11000",
          "3561.57007",
          "3507.07007",
          "3443.71997",
          "3437.36011",
          "3389.79004",
          "3427.37012",
          "3523.83008",
          "3523.15991",
          "3483.41992",
          "3444.23999",
          "3391.35010",
          "3381.83008",
          "3466.30005",
          "3377.41992",
          "3400.35010",
          "3341.58008",
          "3408.34009",
          "3420.73999",
          "3421.37012",
          "3393.38989",
          "3413.21997",
          "3377.52002"
         ],
         "high": [
          "3576.50000",
          "3587.25000",
          "3704.19995",
          "3762.05005",
          "3713.45996",
          "3620.88989",
          "3613.63989",
          "3737.26880",
          "3596.00000",
          "3585.77002",
          "3559.87988",
          "3492.69995",
          "3469.87012",
          "3473.90991",
          "3549.96997",
          "3543.60010",
          "3539.38989",
          "3518.54004",
          "3441.15991",
          "3389.97998",
          "3472.00000",
          "3483.32007",
          "3417.96997",
          "3357.48511",
          "3414.33008",
          "3441.00000",
          "3439.50000",
          "3458.86011",
          "3443.52002",
          "3424.23999"
         ],
         "low": [
          "3525.14990",
          "3545.35010",
          "3561.00000",
          "3676.20996",
          "3567.50000",
          "3529.50000",
          "3536.85010",
          "3502.00000",
          "3531.50000",
          "3492.01001",
          "3441.60010",
          "3423.75000",
          "3338.60010",
          "3338.68994",
          "3467.52002",
          "3495.01001",
          "3482.79004",
          "3410.00000",
          "3382.60010",
          "3328.80005",
          "3303.89990",
          "3363.20508",
          "3312.27100",
          "3312.60498",
          "3312.94995",
          "3370.01001",
          "3403.00000",
          "3384.31006",
          "3382.70996",
          "3373.19507"
         ],
         "open": [
          "3539.00000",
          "3564.71997",
          "3566.35010",
          "3707.68994",
          "3676.37988",
          "3598.83008",
          "3562.66992",
          "3606.64990",
          "3547.64429",
          "3563.50000",
          "3545.00000",
          "3460.00000",
          "3455.00000",
          "3393.00000",
          "3492.88989",
          "3523.01001",
          "3515.00000",
          "3508.34009",
          "3440.00000",
          "3351.00000",
          "3371.95996",
          "3467.37134",
          "3350.00000",
          "3337.00000",
          "3357.01001",
          "3385.39990",
          "3408.56006",
          "3420.73999",
          "3403.64990",
          "3416.80005"
         ],
         "type": "candlestick",
         "x": [
          "2021-11-16",
          "2021-11-17",
          "2021-11-18",
          "2021-11-19",
          "2021-11-22",
          "2021-11-23",
          "2021-11-24",
          "2021-11-26",
          "2021-11-29",
          "2021-11-30",
          "2021-12-01",
          "2021-12-02",
          "2021-12-03",
          "2021-12-06",
          "2021-12-07",
          "2021-12-08",
          "2021-12-09",
          "2021-12-10",
          "2021-12-13",
          "2021-12-14",
          "2021-12-15",
          "2021-12-16",
          "2021-12-17",
          "2021-12-20",
          "2021-12-21",
          "2021-12-22",
          "2021-12-23",
          "2021-12-27",
          "2021-12-28",
          "2021-12-29"
         ]
        },
        {
         "line": {
          "color": "purple",
          "width": 1
         },
         "type": "scatter",
         "x": [
          "2021-11-16",
          "2021-11-17",
          "2021-11-18",
          "2021-11-19",
          "2021-11-22",
          "2021-11-23",
          "2021-11-24",
          "2021-11-26",
          "2021-11-29",
          "2021-11-30",
          "2021-12-01",
          "2021-12-02",
          "2021-12-03",
          "2021-12-06",
          "2021-12-07",
          "2021-12-08",
          "2021-12-09",
          "2021-12-10",
          "2021-12-13",
          "2021-12-14",
          "2021-12-15",
          "2021-12-16",
          "2021-12-17",
          "2021-12-20",
          "2021-12-21",
          "2021-12-22",
          "2021-12-23",
          "2021-12-27",
          "2021-12-28",
          "2021-12-29"
         ],
         "y": [
          null,
          null,
          null,
          null,
          null,
          null,
          null,
          null,
          null,
          null,
          null,
          null,
          null,
          null,
          null,
          null,
          null,
          null,
          null,
          3510.6845289999997,
          3506.964534,
          3498.3855300000005,
          3483.600032,
          3466.8505324999996,
          3458.6390334999996,
          3450.6480299999994,
          3442.6960405,
          3437.210035,
          3429.79253,
          3423.3150275
         ]
        }
       ],
       "layout": {
        "template": {
         "data": {
          "bar": [
           {
            "error_x": {
             "color": "#2a3f5f"
            },
            "error_y": {
             "color": "#2a3f5f"
            },
            "marker": {
             "line": {
              "color": "#E5ECF6",
              "width": 0.5
             },
             "pattern": {
              "fillmode": "overlay",
              "size": 10,
              "solidity": 0.2
             }
            },
            "type": "bar"
           }
          ],
          "barpolar": [
           {
            "marker": {
             "line": {
              "color": "#E5ECF6",
              "width": 0.5
             },
             "pattern": {
              "fillmode": "overlay",
              "size": 10,
              "solidity": 0.2
             }
            },
            "type": "barpolar"
           }
          ],
          "carpet": [
           {
            "aaxis": {
             "endlinecolor": "#2a3f5f",
             "gridcolor": "white",
             "linecolor": "white",
             "minorgridcolor": "white",
             "startlinecolor": "#2a3f5f"
            },
            "baxis": {
             "endlinecolor": "#2a3f5f",
             "gridcolor": "white",
             "linecolor": "white",
             "minorgridcolor": "white",
             "startlinecolor": "#2a3f5f"
            },
            "type": "carpet"
           }
          ],
          "choropleth": [
           {
            "colorbar": {
             "outlinewidth": 0,
             "ticks": ""
            },
            "type": "choropleth"
           }
          ],
          "contour": [
           {
            "colorbar": {
             "outlinewidth": 0,
             "ticks": ""
            },
            "colorscale": [
             [
              0,
              "#0d0887"
             ],
             [
              0.1111111111111111,
              "#46039f"
             ],
             [
              0.2222222222222222,
              "#7201a8"
             ],
             [
              0.3333333333333333,
              "#9c179e"
             ],
             [
              0.4444444444444444,
              "#bd3786"
             ],
             [
              0.5555555555555556,
              "#d8576b"
             ],
             [
              0.6666666666666666,
              "#ed7953"
             ],
             [
              0.7777777777777778,
              "#fb9f3a"
             ],
             [
              0.8888888888888888,
              "#fdca26"
             ],
             [
              1,
              "#f0f921"
             ]
            ],
            "type": "contour"
           }
          ],
          "contourcarpet": [
           {
            "colorbar": {
             "outlinewidth": 0,
             "ticks": ""
            },
            "type": "contourcarpet"
           }
          ],
          "heatmap": [
           {
            "colorbar": {
             "outlinewidth": 0,
             "ticks": ""
            },
            "colorscale": [
             [
              0,
              "#0d0887"
             ],
             [
              0.1111111111111111,
              "#46039f"
             ],
             [
              0.2222222222222222,
              "#7201a8"
             ],
             [
              0.3333333333333333,
              "#9c179e"
             ],
             [
              0.4444444444444444,
              "#bd3786"
             ],
             [
              0.5555555555555556,
              "#d8576b"
             ],
             [
              0.6666666666666666,
              "#ed7953"
             ],
             [
              0.7777777777777778,
              "#fb9f3a"
             ],
             [
              0.8888888888888888,
              "#fdca26"
             ],
             [
              1,
              "#f0f921"
             ]
            ],
            "type": "heatmap"
           }
          ],
          "heatmapgl": [
           {
            "colorbar": {
             "outlinewidth": 0,
             "ticks": ""
            },
            "colorscale": [
             [
              0,
              "#0d0887"
             ],
             [
              0.1111111111111111,
              "#46039f"
             ],
             [
              0.2222222222222222,
              "#7201a8"
             ],
             [
              0.3333333333333333,
              "#9c179e"
             ],
             [
              0.4444444444444444,
              "#bd3786"
             ],
             [
              0.5555555555555556,
              "#d8576b"
             ],
             [
              0.6666666666666666,
              "#ed7953"
             ],
             [
              0.7777777777777778,
              "#fb9f3a"
             ],
             [
              0.8888888888888888,
              "#fdca26"
             ],
             [
              1,
              "#f0f921"
             ]
            ],
            "type": "heatmapgl"
           }
          ],
          "histogram": [
           {
            "marker": {
             "pattern": {
              "fillmode": "overlay",
              "size": 10,
              "solidity": 0.2
             }
            },
            "type": "histogram"
           }
          ],
          "histogram2d": [
           {
            "colorbar": {
             "outlinewidth": 0,
             "ticks": ""
            },
            "colorscale": [
             [
              0,
              "#0d0887"
             ],
             [
              0.1111111111111111,
              "#46039f"
             ],
             [
              0.2222222222222222,
              "#7201a8"
             ],
             [
              0.3333333333333333,
              "#9c179e"
             ],
             [
              0.4444444444444444,
              "#bd3786"
             ],
             [
              0.5555555555555556,
              "#d8576b"
             ],
             [
              0.6666666666666666,
              "#ed7953"
             ],
             [
              0.7777777777777778,
              "#fb9f3a"
             ],
             [
              0.8888888888888888,
              "#fdca26"
             ],
             [
              1,
              "#f0f921"
             ]
            ],
            "type": "histogram2d"
           }
          ],
          "histogram2dcontour": [
           {
            "colorbar": {
             "outlinewidth": 0,
             "ticks": ""
            },
            "colorscale": [
             [
              0,
              "#0d0887"
             ],
             [
              0.1111111111111111,
              "#46039f"
             ],
             [
              0.2222222222222222,
              "#7201a8"
             ],
             [
              0.3333333333333333,
              "#9c179e"
             ],
             [
              0.4444444444444444,
              "#bd3786"
             ],
             [
              0.5555555555555556,
              "#d8576b"
             ],
             [
              0.6666666666666666,
              "#ed7953"
             ],
             [
              0.7777777777777778,
              "#fb9f3a"
             ],
             [
              0.8888888888888888,
              "#fdca26"
             ],
             [
              1,
              "#f0f921"
             ]
            ],
            "type": "histogram2dcontour"
           }
          ],
          "mesh3d": [
           {
            "colorbar": {
             "outlinewidth": 0,
             "ticks": ""
            },
            "type": "mesh3d"
           }
          ],
          "parcoords": [
           {
            "line": {
             "colorbar": {
              "outlinewidth": 0,
              "ticks": ""
             }
            },
            "type": "parcoords"
           }
          ],
          "pie": [
           {
            "automargin": true,
            "type": "pie"
           }
          ],
          "scatter": [
           {
            "marker": {
             "colorbar": {
              "outlinewidth": 0,
              "ticks": ""
             }
            },
            "type": "scatter"
           }
          ],
          "scatter3d": [
           {
            "line": {
             "colorbar": {
              "outlinewidth": 0,
              "ticks": ""
             }
            },
            "marker": {
             "colorbar": {
              "outlinewidth": 0,
              "ticks": ""
             }
            },
            "type": "scatter3d"
           }
          ],
          "scattercarpet": [
           {
            "marker": {
             "colorbar": {
              "outlinewidth": 0,
              "ticks": ""
             }
            },
            "type": "scattercarpet"
           }
          ],
          "scattergeo": [
           {
            "marker": {
             "colorbar": {
              "outlinewidth": 0,
              "ticks": ""
             }
            },
            "type": "scattergeo"
           }
          ],
          "scattergl": [
           {
            "marker": {
             "colorbar": {
              "outlinewidth": 0,
              "ticks": ""
             }
            },
            "type": "scattergl"
           }
          ],
          "scattermapbox": [
           {
            "marker": {
             "colorbar": {
              "outlinewidth": 0,
              "ticks": ""
             }
            },
            "type": "scattermapbox"
           }
          ],
          "scatterpolar": [
           {
            "marker": {
             "colorbar": {
              "outlinewidth": 0,
              "ticks": ""
             }
            },
            "type": "scatterpolar"
           }
          ],
          "scatterpolargl": [
           {
            "marker": {
             "colorbar": {
              "outlinewidth": 0,
              "ticks": ""
             }
            },
            "type": "scatterpolargl"
           }
          ],
          "scatterternary": [
           {
            "marker": {
             "colorbar": {
              "outlinewidth": 0,
              "ticks": ""
             }
            },
            "type": "scatterternary"
           }
          ],
          "surface": [
           {
            "colorbar": {
             "outlinewidth": 0,
             "ticks": ""
            },
            "colorscale": [
             [
              0,
              "#0d0887"
             ],
             [
              0.1111111111111111,
              "#46039f"
             ],
             [
              0.2222222222222222,
              "#7201a8"
             ],
             [
              0.3333333333333333,
              "#9c179e"
             ],
             [
              0.4444444444444444,
              "#bd3786"
             ],
             [
              0.5555555555555556,
              "#d8576b"
             ],
             [
              0.6666666666666666,
              "#ed7953"
             ],
             [
              0.7777777777777778,
              "#fb9f3a"
             ],
             [
              0.8888888888888888,
              "#fdca26"
             ],
             [
              1,
              "#f0f921"
             ]
            ],
            "type": "surface"
           }
          ],
          "table": [
           {
            "cells": {
             "fill": {
              "color": "#EBF0F8"
             },
             "line": {
              "color": "white"
             }
            },
            "header": {
             "fill": {
              "color": "#C8D4E3"
             },
             "line": {
              "color": "white"
             }
            },
            "type": "table"
           }
          ]
         },
         "layout": {
          "annotationdefaults": {
           "arrowcolor": "#2a3f5f",
           "arrowhead": 0,
           "arrowwidth": 1
          },
          "autotypenumbers": "strict",
          "coloraxis": {
           "colorbar": {
            "outlinewidth": 0,
            "ticks": ""
           }
          },
          "colorscale": {
           "diverging": [
            [
             0,
             "#8e0152"
            ],
            [
             0.1,
             "#c51b7d"
            ],
            [
             0.2,
             "#de77ae"
            ],
            [
             0.3,
             "#f1b6da"
            ],
            [
             0.4,
             "#fde0ef"
            ],
            [
             0.5,
             "#f7f7f7"
            ],
            [
             0.6,
             "#e6f5d0"
            ],
            [
             0.7,
             "#b8e186"
            ],
            [
             0.8,
             "#7fbc41"
            ],
            [
             0.9,
             "#4d9221"
            ],
            [
             1,
             "#276419"
            ]
           ],
           "sequential": [
            [
             0,
             "#0d0887"
            ],
            [
             0.1111111111111111,
             "#46039f"
            ],
            [
             0.2222222222222222,
             "#7201a8"
            ],
            [
             0.3333333333333333,
             "#9c179e"
            ],
            [
             0.4444444444444444,
             "#bd3786"
            ],
            [
             0.5555555555555556,
             "#d8576b"
            ],
            [
             0.6666666666666666,
             "#ed7953"
            ],
            [
             0.7777777777777778,
             "#fb9f3a"
            ],
            [
             0.8888888888888888,
             "#fdca26"
            ],
            [
             1,
             "#f0f921"
            ]
           ],
           "sequentialminus": [
            [
             0,
             "#0d0887"
            ],
            [
             0.1111111111111111,
             "#46039f"
            ],
            [
             0.2222222222222222,
             "#7201a8"
            ],
            [
             0.3333333333333333,
             "#9c179e"
            ],
            [
             0.4444444444444444,
             "#bd3786"
            ],
            [
             0.5555555555555556,
             "#d8576b"
            ],
            [
             0.6666666666666666,
             "#ed7953"
            ],
            [
             0.7777777777777778,
             "#fb9f3a"
            ],
            [
             0.8888888888888888,
             "#fdca26"
            ],
            [
             1,
             "#f0f921"
            ]
           ]
          },
          "colorway": [
           "#636efa",
           "#EF553B",
           "#00cc96",
           "#ab63fa",
           "#FFA15A",
           "#19d3f3",
           "#FF6692",
           "#B6E880",
           "#FF97FF",
           "#FECB52"
          ],
          "font": {
           "color": "#2a3f5f"
          },
          "geo": {
           "bgcolor": "white",
           "lakecolor": "white",
           "landcolor": "#E5ECF6",
           "showlakes": true,
           "showland": true,
           "subunitcolor": "white"
          },
          "hoverlabel": {
           "align": "left"
          },
          "hovermode": "closest",
          "mapbox": {
           "style": "light"
          },
          "paper_bgcolor": "white",
          "plot_bgcolor": "#E5ECF6",
          "polar": {
           "angularaxis": {
            "gridcolor": "white",
            "linecolor": "white",
            "ticks": ""
           },
           "bgcolor": "#E5ECF6",
           "radialaxis": {
            "gridcolor": "white",
            "linecolor": "white",
            "ticks": ""
           }
          },
          "scene": {
           "xaxis": {
            "backgroundcolor": "#E5ECF6",
            "gridcolor": "white",
            "gridwidth": 2,
            "linecolor": "white",
            "showbackground": true,
            "ticks": "",
            "zerolinecolor": "white"
           },
           "yaxis": {
            "backgroundcolor": "#E5ECF6",
            "gridcolor": "white",
            "gridwidth": 2,
            "linecolor": "white",
            "showbackground": true,
            "ticks": "",
            "zerolinecolor": "white"
           },
           "zaxis": {
            "backgroundcolor": "#E5ECF6",
            "gridcolor": "white",
            "gridwidth": 2,
            "linecolor": "white",
            "showbackground": true,
            "ticks": "",
            "zerolinecolor": "white"
           }
          },
          "shapedefaults": {
           "line": {
            "color": "#2a3f5f"
           }
          },
          "ternary": {
           "aaxis": {
            "gridcolor": "white",
            "linecolor": "white",
            "ticks": ""
           },
           "baxis": {
            "gridcolor": "white",
            "linecolor": "white",
            "ticks": ""
           },
           "bgcolor": "#E5ECF6",
           "caxis": {
            "gridcolor": "white",
            "linecolor": "white",
            "ticks": ""
           }
          },
          "title": {
           "x": 0.05
          },
          "xaxis": {
           "automargin": true,
           "gridcolor": "white",
           "linecolor": "white",
           "ticks": "",
           "title": {
            "standoff": 15
           },
           "zerolinecolor": "white",
           "zerolinewidth": 2
          },
          "yaxis": {
           "automargin": true,
           "gridcolor": "white",
           "linecolor": "white",
           "ticks": "",
           "title": {
            "standoff": 15
           },
           "zerolinecolor": "white",
           "zerolinewidth": 2
          }
         }
        }
       }
      },
      "text/html": [
       "<div>                            <div id=\"36dd3572-18f4-44a1-a463-9959386e63ed\" class=\"plotly-graph-div\" style=\"height:525px; width:100%;\"></div>            <script type=\"text/javascript\">                require([\"plotly\"], function(Plotly) {                    window.PLOTLYENV=window.PLOTLYENV || {};                                    if (document.getElementById(\"36dd3572-18f4-44a1-a463-9959386e63ed\")) {                    Plotly.newPlot(                        \"36dd3572-18f4-44a1-a463-9959386e63ed\",                        [{\"close\":[\"3540.69995\",\"3549.00000\",\"3696.06006\",\"3676.57007\",\"3572.57007\",\"3580.56006\",\"3580.40991\",\"3503.11000\",\"3561.57007\",\"3507.07007\",\"3443.71997\",\"3437.36011\",\"3389.79004\",\"3427.37012\",\"3523.83008\",\"3523.15991\",\"3483.41992\",\"3444.23999\",\"3391.35010\",\"3381.83008\",\"3466.30005\",\"3377.41992\",\"3400.35010\",\"3341.58008\",\"3408.34009\",\"3420.73999\",\"3421.37012\",\"3393.38989\",\"3413.21997\",\"3377.52002\"],\"high\":[\"3576.50000\",\"3587.25000\",\"3704.19995\",\"3762.05005\",\"3713.45996\",\"3620.88989\",\"3613.63989\",\"3737.26880\",\"3596.00000\",\"3585.77002\",\"3559.87988\",\"3492.69995\",\"3469.87012\",\"3473.90991\",\"3549.96997\",\"3543.60010\",\"3539.38989\",\"3518.54004\",\"3441.15991\",\"3389.97998\",\"3472.00000\",\"3483.32007\",\"3417.96997\",\"3357.48511\",\"3414.33008\",\"3441.00000\",\"3439.50000\",\"3458.86011\",\"3443.52002\",\"3424.23999\"],\"low\":[\"3525.14990\",\"3545.35010\",\"3561.00000\",\"3676.20996\",\"3567.50000\",\"3529.50000\",\"3536.85010\",\"3502.00000\",\"3531.50000\",\"3492.01001\",\"3441.60010\",\"3423.75000\",\"3338.60010\",\"3338.68994\",\"3467.52002\",\"3495.01001\",\"3482.79004\",\"3410.00000\",\"3382.60010\",\"3328.80005\",\"3303.89990\",\"3363.20508\",\"3312.27100\",\"3312.60498\",\"3312.94995\",\"3370.01001\",\"3403.00000\",\"3384.31006\",\"3382.70996\",\"3373.19507\"],\"open\":[\"3539.00000\",\"3564.71997\",\"3566.35010\",\"3707.68994\",\"3676.37988\",\"3598.83008\",\"3562.66992\",\"3606.64990\",\"3547.64429\",\"3563.50000\",\"3545.00000\",\"3460.00000\",\"3455.00000\",\"3393.00000\",\"3492.88989\",\"3523.01001\",\"3515.00000\",\"3508.34009\",\"3440.00000\",\"3351.00000\",\"3371.95996\",\"3467.37134\",\"3350.00000\",\"3337.00000\",\"3357.01001\",\"3385.39990\",\"3408.56006\",\"3420.73999\",\"3403.64990\",\"3416.80005\"],\"type\":\"candlestick\",\"x\":[\"2021-11-16\",\"2021-11-17\",\"2021-11-18\",\"2021-11-19\",\"2021-11-22\",\"2021-11-23\",\"2021-11-24\",\"2021-11-26\",\"2021-11-29\",\"2021-11-30\",\"2021-12-01\",\"2021-12-02\",\"2021-12-03\",\"2021-12-06\",\"2021-12-07\",\"2021-12-08\",\"2021-12-09\",\"2021-12-10\",\"2021-12-13\",\"2021-12-14\",\"2021-12-15\",\"2021-12-16\",\"2021-12-17\",\"2021-12-20\",\"2021-12-21\",\"2021-12-22\",\"2021-12-23\",\"2021-12-27\",\"2021-12-28\",\"2021-12-29\"]},{\"line\":{\"color\":\"purple\",\"width\":1},\"type\":\"scatter\",\"x\":[\"2021-11-16\",\"2021-11-17\",\"2021-11-18\",\"2021-11-19\",\"2021-11-22\",\"2021-11-23\",\"2021-11-24\",\"2021-11-26\",\"2021-11-29\",\"2021-11-30\",\"2021-12-01\",\"2021-12-02\",\"2021-12-03\",\"2021-12-06\",\"2021-12-07\",\"2021-12-08\",\"2021-12-09\",\"2021-12-10\",\"2021-12-13\",\"2021-12-14\",\"2021-12-15\",\"2021-12-16\",\"2021-12-17\",\"2021-12-20\",\"2021-12-21\",\"2021-12-22\",\"2021-12-23\",\"2021-12-27\",\"2021-12-28\",\"2021-12-29\"],\"y\":[null,null,null,null,null,null,null,null,null,null,null,null,null,null,null,null,null,null,null,3510.6845289999997,3506.964534,3498.3855300000005,3483.600032,3466.8505324999996,3458.6390334999996,3450.6480299999994,3442.6960405,3437.210035,3429.79253,3423.3150275]}],                        {\"template\":{\"data\":{\"bar\":[{\"error_x\":{\"color\":\"#2a3f5f\"},\"error_y\":{\"color\":\"#2a3f5f\"},\"marker\":{\"line\":{\"color\":\"#E5ECF6\",\"width\":0.5},\"pattern\":{\"fillmode\":\"overlay\",\"size\":10,\"solidity\":0.2}},\"type\":\"bar\"}],\"barpolar\":[{\"marker\":{\"line\":{\"color\":\"#E5ECF6\",\"width\":0.5},\"pattern\":{\"fillmode\":\"overlay\",\"size\":10,\"solidity\":0.2}},\"type\":\"barpolar\"}],\"carpet\":[{\"aaxis\":{\"endlinecolor\":\"#2a3f5f\",\"gridcolor\":\"white\",\"linecolor\":\"white\",\"minorgridcolor\":\"white\",\"startlinecolor\":\"#2a3f5f\"},\"baxis\":{\"endlinecolor\":\"#2a3f5f\",\"gridcolor\":\"white\",\"linecolor\":\"white\",\"minorgridcolor\":\"white\",\"startlinecolor\":\"#2a3f5f\"},\"type\":\"carpet\"}],\"choropleth\":[{\"colorbar\":{\"outlinewidth\":0,\"ticks\":\"\"},\"type\":\"choropleth\"}],\"contour\":[{\"colorbar\":{\"outlinewidth\":0,\"ticks\":\"\"},\"colorscale\":[[0.0,\"#0d0887\"],[0.1111111111111111,\"#46039f\"],[0.2222222222222222,\"#7201a8\"],[0.3333333333333333,\"#9c179e\"],[0.4444444444444444,\"#bd3786\"],[0.5555555555555556,\"#d8576b\"],[0.6666666666666666,\"#ed7953\"],[0.7777777777777778,\"#fb9f3a\"],[0.8888888888888888,\"#fdca26\"],[1.0,\"#f0f921\"]],\"type\":\"contour\"}],\"contourcarpet\":[{\"colorbar\":{\"outlinewidth\":0,\"ticks\":\"\"},\"type\":\"contourcarpet\"}],\"heatmap\":[{\"colorbar\":{\"outlinewidth\":0,\"ticks\":\"\"},\"colorscale\":[[0.0,\"#0d0887\"],[0.1111111111111111,\"#46039f\"],[0.2222222222222222,\"#7201a8\"],[0.3333333333333333,\"#9c179e\"],[0.4444444444444444,\"#bd3786\"],[0.5555555555555556,\"#d8576b\"],[0.6666666666666666,\"#ed7953\"],[0.7777777777777778,\"#fb9f3a\"],[0.8888888888888888,\"#fdca26\"],[1.0,\"#f0f921\"]],\"type\":\"heatmap\"}],\"heatmapgl\":[{\"colorbar\":{\"outlinewidth\":0,\"ticks\":\"\"},\"colorscale\":[[0.0,\"#0d0887\"],[0.1111111111111111,\"#46039f\"],[0.2222222222222222,\"#7201a8\"],[0.3333333333333333,\"#9c179e\"],[0.4444444444444444,\"#bd3786\"],[0.5555555555555556,\"#d8576b\"],[0.6666666666666666,\"#ed7953\"],[0.7777777777777778,\"#fb9f3a\"],[0.8888888888888888,\"#fdca26\"],[1.0,\"#f0f921\"]],\"type\":\"heatmapgl\"}],\"histogram\":[{\"marker\":{\"pattern\":{\"fillmode\":\"overlay\",\"size\":10,\"solidity\":0.2}},\"type\":\"histogram\"}],\"histogram2d\":[{\"colorbar\":{\"outlinewidth\":0,\"ticks\":\"\"},\"colorscale\":[[0.0,\"#0d0887\"],[0.1111111111111111,\"#46039f\"],[0.2222222222222222,\"#7201a8\"],[0.3333333333333333,\"#9c179e\"],[0.4444444444444444,\"#bd3786\"],[0.5555555555555556,\"#d8576b\"],[0.6666666666666666,\"#ed7953\"],[0.7777777777777778,\"#fb9f3a\"],[0.8888888888888888,\"#fdca26\"],[1.0,\"#f0f921\"]],\"type\":\"histogram2d\"}],\"histogram2dcontour\":[{\"colorbar\":{\"outlinewidth\":0,\"ticks\":\"\"},\"colorscale\":[[0.0,\"#0d0887\"],[0.1111111111111111,\"#46039f\"],[0.2222222222222222,\"#7201a8\"],[0.3333333333333333,\"#9c179e\"],[0.4444444444444444,\"#bd3786\"],[0.5555555555555556,\"#d8576b\"],[0.6666666666666666,\"#ed7953\"],[0.7777777777777778,\"#fb9f3a\"],[0.8888888888888888,\"#fdca26\"],[1.0,\"#f0f921\"]],\"type\":\"histogram2dcontour\"}],\"mesh3d\":[{\"colorbar\":{\"outlinewidth\":0,\"ticks\":\"\"},\"type\":\"mesh3d\"}],\"parcoords\":[{\"line\":{\"colorbar\":{\"outlinewidth\":0,\"ticks\":\"\"}},\"type\":\"parcoords\"}],\"pie\":[{\"automargin\":true,\"type\":\"pie\"}],\"scatter\":[{\"marker\":{\"colorbar\":{\"outlinewidth\":0,\"ticks\":\"\"}},\"type\":\"scatter\"}],\"scatter3d\":[{\"line\":{\"colorbar\":{\"outlinewidth\":0,\"ticks\":\"\"}},\"marker\":{\"colorbar\":{\"outlinewidth\":0,\"ticks\":\"\"}},\"type\":\"scatter3d\"}],\"scattercarpet\":[{\"marker\":{\"colorbar\":{\"outlinewidth\":0,\"ticks\":\"\"}},\"type\":\"scattercarpet\"}],\"scattergeo\":[{\"marker\":{\"colorbar\":{\"outlinewidth\":0,\"ticks\":\"\"}},\"type\":\"scattergeo\"}],\"scattergl\":[{\"marker\":{\"colorbar\":{\"outlinewidth\":0,\"ticks\":\"\"}},\"type\":\"scattergl\"}],\"scattermapbox\":[{\"marker\":{\"colorbar\":{\"outlinewidth\":0,\"ticks\":\"\"}},\"type\":\"scattermapbox\"}],\"scatterpolar\":[{\"marker\":{\"colorbar\":{\"outlinewidth\":0,\"ticks\":\"\"}},\"type\":\"scatterpolar\"}],\"scatterpolargl\":[{\"marker\":{\"colorbar\":{\"outlinewidth\":0,\"ticks\":\"\"}},\"type\":\"scatterpolargl\"}],\"scatterternary\":[{\"marker\":{\"colorbar\":{\"outlinewidth\":0,\"ticks\":\"\"}},\"type\":\"scatterternary\"}],\"surface\":[{\"colorbar\":{\"outlinewidth\":0,\"ticks\":\"\"},\"colorscale\":[[0.0,\"#0d0887\"],[0.1111111111111111,\"#46039f\"],[0.2222222222222222,\"#7201a8\"],[0.3333333333333333,\"#9c179e\"],[0.4444444444444444,\"#bd3786\"],[0.5555555555555556,\"#d8576b\"],[0.6666666666666666,\"#ed7953\"],[0.7777777777777778,\"#fb9f3a\"],[0.8888888888888888,\"#fdca26\"],[1.0,\"#f0f921\"]],\"type\":\"surface\"}],\"table\":[{\"cells\":{\"fill\":{\"color\":\"#EBF0F8\"},\"line\":{\"color\":\"white\"}},\"header\":{\"fill\":{\"color\":\"#C8D4E3\"},\"line\":{\"color\":\"white\"}},\"type\":\"table\"}]},\"layout\":{\"annotationdefaults\":{\"arrowcolor\":\"#2a3f5f\",\"arrowhead\":0,\"arrowwidth\":1},\"autotypenumbers\":\"strict\",\"coloraxis\":{\"colorbar\":{\"outlinewidth\":0,\"ticks\":\"\"}},\"colorscale\":{\"diverging\":[[0,\"#8e0152\"],[0.1,\"#c51b7d\"],[0.2,\"#de77ae\"],[0.3,\"#f1b6da\"],[0.4,\"#fde0ef\"],[0.5,\"#f7f7f7\"],[0.6,\"#e6f5d0\"],[0.7,\"#b8e186\"],[0.8,\"#7fbc41\"],[0.9,\"#4d9221\"],[1,\"#276419\"]],\"sequential\":[[0.0,\"#0d0887\"],[0.1111111111111111,\"#46039f\"],[0.2222222222222222,\"#7201a8\"],[0.3333333333333333,\"#9c179e\"],[0.4444444444444444,\"#bd3786\"],[0.5555555555555556,\"#d8576b\"],[0.6666666666666666,\"#ed7953\"],[0.7777777777777778,\"#fb9f3a\"],[0.8888888888888888,\"#fdca26\"],[1.0,\"#f0f921\"]],\"sequentialminus\":[[0.0,\"#0d0887\"],[0.1111111111111111,\"#46039f\"],[0.2222222222222222,\"#7201a8\"],[0.3333333333333333,\"#9c179e\"],[0.4444444444444444,\"#bd3786\"],[0.5555555555555556,\"#d8576b\"],[0.6666666666666666,\"#ed7953\"],[0.7777777777777778,\"#fb9f3a\"],[0.8888888888888888,\"#fdca26\"],[1.0,\"#f0f921\"]]},\"colorway\":[\"#636efa\",\"#EF553B\",\"#00cc96\",\"#ab63fa\",\"#FFA15A\",\"#19d3f3\",\"#FF6692\",\"#B6E880\",\"#FF97FF\",\"#FECB52\"],\"font\":{\"color\":\"#2a3f5f\"},\"geo\":{\"bgcolor\":\"white\",\"lakecolor\":\"white\",\"landcolor\":\"#E5ECF6\",\"showlakes\":true,\"showland\":true,\"subunitcolor\":\"white\"},\"hoverlabel\":{\"align\":\"left\"},\"hovermode\":\"closest\",\"mapbox\":{\"style\":\"light\"},\"paper_bgcolor\":\"white\",\"plot_bgcolor\":\"#E5ECF6\",\"polar\":{\"angularaxis\":{\"gridcolor\":\"white\",\"linecolor\":\"white\",\"ticks\":\"\"},\"bgcolor\":\"#E5ECF6\",\"radialaxis\":{\"gridcolor\":\"white\",\"linecolor\":\"white\",\"ticks\":\"\"}},\"scene\":{\"xaxis\":{\"backgroundcolor\":\"#E5ECF6\",\"gridcolor\":\"white\",\"gridwidth\":2,\"linecolor\":\"white\",\"showbackground\":true,\"ticks\":\"\",\"zerolinecolor\":\"white\"},\"yaxis\":{\"backgroundcolor\":\"#E5ECF6\",\"gridcolor\":\"white\",\"gridwidth\":2,\"linecolor\":\"white\",\"showbackground\":true,\"ticks\":\"\",\"zerolinecolor\":\"white\"},\"zaxis\":{\"backgroundcolor\":\"#E5ECF6\",\"gridcolor\":\"white\",\"gridwidth\":2,\"linecolor\":\"white\",\"showbackground\":true,\"ticks\":\"\",\"zerolinecolor\":\"white\"}},\"shapedefaults\":{\"line\":{\"color\":\"#2a3f5f\"}},\"ternary\":{\"aaxis\":{\"gridcolor\":\"white\",\"linecolor\":\"white\",\"ticks\":\"\"},\"baxis\":{\"gridcolor\":\"white\",\"linecolor\":\"white\",\"ticks\":\"\"},\"bgcolor\":\"#E5ECF6\",\"caxis\":{\"gridcolor\":\"white\",\"linecolor\":\"white\",\"ticks\":\"\"}},\"title\":{\"x\":0.05},\"xaxis\":{\"automargin\":true,\"gridcolor\":\"white\",\"linecolor\":\"white\",\"ticks\":\"\",\"title\":{\"standoff\":15},\"zerolinecolor\":\"white\",\"zerolinewidth\":2},\"yaxis\":{\"automargin\":true,\"gridcolor\":\"white\",\"linecolor\":\"white\",\"ticks\":\"\",\"title\":{\"standoff\":15},\"zerolinecolor\":\"white\",\"zerolinewidth\":2}}}},                        {\"responsive\": true}                    ).then(function(){\n",
       "                            \n",
       "var gd = document.getElementById('36dd3572-18f4-44a1-a463-9959386e63ed');\n",
       "var x = new MutationObserver(function (mutations, observer) {{\n",
       "        var display = window.getComputedStyle(gd).display;\n",
       "        if (!display || display === 'none') {{\n",
       "            console.log([gd, 'removed!']);\n",
       "            Plotly.purge(gd);\n",
       "            observer.disconnect();\n",
       "        }}\n",
       "}});\n",
       "\n",
       "// Listen for the removal of the full notebook cells\n",
       "var notebookContainer = gd.closest('#notebook-container');\n",
       "if (notebookContainer) {{\n",
       "    x.observe(notebookContainer, {childList: true});\n",
       "}}\n",
       "\n",
       "// Listen for the clearing of the current output cell\n",
       "var outputEl = gd.closest('.output');\n",
       "if (outputEl) {{\n",
       "    x.observe(outputEl, {childList: true});\n",
       "}}\n",
       "\n",
       "                        })                };                });            </script>        </div>"
      ]
     },
     "metadata": {},
     "output_type": "display_data"
    }
   ],
   "source": [
    "import plotly.graph_objects as go\n",
    "fig = go.Figure(data=[go.Candlestick(x = historical.index,\n",
    "                                    open = historical['open'],\n",
    "                                    high = historical['high'],\n",
    "                                    low = historical['low'],\n",
    "                                    close = historical['close'],\n",
    "                                    ),\n",
    "                     go.Scatter(x=historical.index, y=historical['20 SMA'], line=dict(color='purple', width=1))])\n",
    "\n",
    "\n",
    "fig.show()"
   ]
  },
  {
   "cell_type": "markdown",
   "id": "4bbcacd2",
   "metadata": {},
   "source": [
    "# Currency Conversion"
   ]
  },
  {
   "cell_type": "code",
   "execution_count": 24,
   "id": "12e68e9c",
   "metadata": {},
   "outputs": [
    {
     "data": {
      "text/plain": [
       "{'symbol': 'USD/GBP', 'rate': 0.74, 'amount': 185.4, 'timestamp': 1640803440}"
      ]
     },
     "execution_count": 24,
     "metadata": {},
     "output_type": "execute_result"
    }
   ],
   "source": [
    "requests.get(\n",
    "    url + 'currency_conversion?symbol=USD/GBP&amount=250&apikey=' + api\n",
    ").json()"
   ]
  },
  {
   "cell_type": "markdown",
   "id": "4e4bdf5c",
   "metadata": {},
   "source": [
    "# Real-Time Price"
   ]
  },
  {
   "cell_type": "code",
   "execution_count": 25,
   "id": "3cd05589",
   "metadata": {},
   "outputs": [
    {
     "data": {
      "text/plain": [
       "{'price': '27.09000'}"
      ]
     },
     "execution_count": 25,
     "metadata": {},
     "output_type": "execute_result"
    }
   ],
   "source": [
    "requests.get(\n",
    "    url + 'price?symbol=BOX&apikey=' + api\n",
    ").json()"
   ]
  },
  {
   "cell_type": "markdown",
   "id": "5d8ba186",
   "metadata": {},
   "source": [
    "# Insider Transactions"
   ]
  },
  {
   "cell_type": "code",
   "execution_count": 32,
   "id": "adbce4a3",
   "metadata": {},
   "outputs": [
    {
     "data": {
      "text/plain": [
       "[{'full_name': 'COOK TIMOTHY D',\n",
       "  'position': 'Chief Executive Officer',\n",
       "  'date_reported': '2021-08-25',\n",
       "  'is_direct': True,\n",
       "  'shares': 2386440,\n",
       "  'value': 354568479,\n",
       "  'description': 'Sale at price 148.30 - 149.97 per share.'},\n",
       " {'full_name': 'COOK TIMOTHY D',\n",
       "  'position': 'Chief Executive Officer',\n",
       "  'date_reported': '2021-08-24',\n",
       "  'is_direct': True,\n",
       "  'shares': 5040000,\n",
       "  'value': None,\n",
       "  'description': ''},\n",
       " {'full_name': 'COOK TIMOTHY D',\n",
       "  'position': 'Chief Executive Officer',\n",
       "  'date_reported': '2021-08-20',\n",
       "  'is_direct': True,\n",
       "  'shares': 70000,\n",
       "  'value': 0,\n",
       "  'description': 'Stock Gift at price 0.00 per share.'}]"
      ]
     },
     "execution_count": 32,
     "metadata": {},
     "output_type": "execute_result"
    }
   ],
   "source": [
    "requests.get(\n",
    "    url + 'insider_transactions?symbol=AAPL&apikey=' + api\n",
    ").json()['insider_transactions'][:3]"
   ]
  },
  {
   "cell_type": "markdown",
   "id": "bea66360",
   "metadata": {},
   "source": [
    "# Profile"
   ]
  },
  {
   "cell_type": "code",
   "execution_count": 33,
   "id": "f97e585b",
   "metadata": {},
   "outputs": [
    {
     "data": {
      "text/plain": [
       "{'symbol': 'AAPL',\n",
       " 'name': 'Apple Inc',\n",
       " 'exchange': 'NASDAQ',\n",
       " 'sector': 'Technology',\n",
       " 'industry': 'Consumer Electronics',\n",
       " 'employees': 154000,\n",
       " 'website': 'https://www.apple.com',\n",
       " 'description': 'Apple Inc. designs, manufactures, and markets smartphones, personal computers, tablets, wearables, and accessories worldwide. It also sells various related services. In addition, the company offers iPhone, a line of smartphones; Mac, a line of personal computers; iPad, a line of multi-purpose tablets; AirPods Max, an over-ear wireless headphone; and wearables, home, and accessories comprising AirPods, Apple TV, Apple Watch, Beats products, HomePod, and iPod touch. Further, it provides AppleCare support services; cloud services store services; and operates various platforms, including the App Store that allow customers to discover and download applications and digital content, such as books, music, video, games, and podcasts. Additionally, the company offers various services, such as Apple Arcade, a game subscription service; Apple Music, which offers users a curated listening experience with on-demand radio stations; Apple News+, a subscription news and magazine service; Apple TV+, which offers exclusive original content; Apple Card, a co-branded credit card; and Apple Pay, a cashless payment service, as well as licenses its intellectual property. The company serves consumers, and small and mid-sized businesses; and the education, enterprise, and government markets. It distributes third-party applications for its products through the App Store. The company also sells its products through its retail and online stores, and direct sales force; and third-party cellular network carriers, wholesalers, retailers, and resellers. Apple Inc. was incorporated in 1977 and is headquartered in Cupertino, California.',\n",
       " 'type': 'Common Stock',\n",
       " 'CEO': 'Mr. Timothy D. Cook',\n",
       " 'address': 'One Apple Park Way',\n",
       " 'city': 'Cupertino',\n",
       " 'zip': '95014',\n",
       " 'state': 'CA',\n",
       " 'country': 'US',\n",
       " 'phone': '408 996 1010'}"
      ]
     },
     "execution_count": 33,
     "metadata": {},
     "output_type": "execute_result"
    }
   ],
   "source": [
    "requests.get(\n",
    "    url + 'profile?symbol=AAPL&apikey=' + api\n",
    ").json()"
   ]
  },
  {
   "cell_type": "markdown",
   "id": "49b92746",
   "metadata": {},
   "source": [
    "# Statistics"
   ]
  },
  {
   "cell_type": "code",
   "execution_count": 38,
   "id": "beccd276",
   "metadata": {},
   "outputs": [
    {
     "data": {
      "text/plain": [
       "{'meta': {'symbol': 'AAPL',\n",
       "  'name': 'Apple Inc',\n",
       "  'currency': 'USD',\n",
       "  'exchange': 'NASDAQ',\n",
       "  'exchange_timezone': 'America/New_York'},\n",
       " 'statistics': {'valuations_metrics': {'market_capitalization': 2942733910016,\n",
       "   'enterprise_value': 3032448499712,\n",
       "   'trailing_pe': 31.97237,\n",
       "   'forward_pe': 29.023464,\n",
       "   'peg_ratio': 1.96,\n",
       "   'price_to_sales_ttm': 8.044279,\n",
       "   'price_to_book_mrq': 46.697475,\n",
       "   'enterprise_to_revenue': 8.29,\n",
       "   'enterprise_to_ebitda': 25.221},\n",
       "  'financials': {'fiscal_year_ends': '2021-09-25',\n",
       "   'most_recent_quarter': '2021-09-25',\n",
       "   'profit_margin': 0.25882,\n",
       "   'operating_margin': 0.29782,\n",
       "   'return_on_assets_ttm': 0.20179,\n",
       "   'return_on_equity_ttm': 1.47443,\n",
       "   'income_statement': {'revenue_ttm': 365817004032,\n",
       "    'revenue_per_share_ttm': 21.904,\n",
       "    'quarterly_revenue_growth': 0.288,\n",
       "    'gross_profit_ttm': 152836000000,\n",
       "    'ebitda': 120233000960,\n",
       "    'net_income_to_common_ttm': 94679998464,\n",
       "    'diluted_eps_ttm': 5.61,\n",
       "    'quarterly_earnings_growth_yoy': 0.622},\n",
       "   'balance_sheet': {'revenue_ttm': 365817004032,\n",
       "    'total_cash_mrq': 62639001600,\n",
       "    'total_cash_per_share_mrq': 3.818,\n",
       "    'total_debt_mrq': 136521998336,\n",
       "    'total_debt_to_equity_mrq': 216.392,\n",
       "    'current_ratio_mrq': 1.075,\n",
       "    'book_value_per_share_mrq': 3.841},\n",
       "   'cash_flow': {'operating_cash_flow_ttm': 104037998592,\n",
       "    'levered_free_cash_flow_ttm': 73295003648}},\n",
       "  'stock_statistics': {'shares_outstanding': 16406400000,\n",
       "   'float_shares': 16389662475,\n",
       "   'avg_10_volume': 94045820,\n",
       "   'avg_30_volume': 104093341,\n",
       "   'shares_short': 112598907,\n",
       "   'short_ratio': 1.4,\n",
       "   'short_percent_of_shares_outstanding': 0.0069,\n",
       "   'percent_held_by_insiders': 0.0007,\n",
       "   'percent_held_by_institutions': 0.58813},\n",
       "  'stock_price_summary': {'fifty_two_week_low': 116.21,\n",
       "   'fifty_two_week_high': 182.13,\n",
       "   'fifty_two_week_change': 0.3407867,\n",
       "   'beta': 1.203116,\n",
       "   'day_50_ma': 160.286,\n",
       "   'day_200_ma': 143.1322},\n",
       "  'dividends_and_splits': {'forward_annual_dividend_rate': 0.88,\n",
       "   'forward_annual_dividend_yield': 0.0049,\n",
       "   'trailing_annual_dividend_rate': 0.85,\n",
       "   'trailing_annual_dividend_yield': 0.0047409227,\n",
       "   '5_year_average_dividend_yield': 1.2,\n",
       "   'payout_ratio': 0.1515,\n",
       "   'dividend_date': '2021-11-11',\n",
       "   'ex_dividend_date': '2021-11-05',\n",
       "   'last_split_factor': '4-for-1 split',\n",
       "   'last_split_date': '2020-08-31'}}}"
      ]
     },
     "execution_count": 38,
     "metadata": {},
     "output_type": "execute_result"
    }
   ],
   "source": [
    "requests.get(\n",
    "    url + 'statistics?symbol=AAPL&apikey=' + api\n",
    ").json()"
   ]
  },
  {
   "cell_type": "markdown",
   "id": "3753bfa5",
   "metadata": {},
   "source": [
    "# Cash Flow"
   ]
  },
  {
   "cell_type": "code",
   "execution_count": 39,
   "id": "5396e672",
   "metadata": {},
   "outputs": [
    {
     "data": {
      "text/plain": [
       "{'meta': {'symbol': 'AAPL',\n",
       "  'name': 'Apple Inc',\n",
       "  'currency': 'USD',\n",
       "  'exchange': 'NASDAQ',\n",
       "  'exchange_timezone': 'America/New_York',\n",
       "  'period': 'Annual'},\n",
       " 'cash_flow': [{'fiscal_date': '2021-09-30',\n",
       "   'operating_activities': {'net_income': 94680000000,\n",
       "    'depreciation': 11284000000,\n",
       "    'deferred_taxes': -4774000000,\n",
       "    'stock_based_compensation': 7906000000,\n",
       "    'other_non_cash_items': -147000000,\n",
       "    'accounts_receivable': -14028000000,\n",
       "    'accounts_payable': 12326000000,\n",
       "    'other_assets_liabilities': -3209000000,\n",
       "    'operating_cash_flow': 104038000000},\n",
       "   'investing_activities': {'capital_expenditures': -11085000000,\n",
       "    'net_intangibles': None,\n",
       "    'net_acquisitions': -33000000,\n",
       "    'purchase_of_investments': -109689000000,\n",
       "    'sale_of_investments': 106870000000,\n",
       "    'other_investing_activity': -608000000,\n",
       "    'investing_cash_flow': -14545000000},\n",
       "   'financing_activities': {'long_term_debt_issuance': 20393000000,\n",
       "    'long_term_debt_payments': -8750000000,\n",
       "    'short_term_debt_issuance': 1022000000,\n",
       "    'common_stock_issuance': 1105000000,\n",
       "    'common_stock_repurchase': -85971000000,\n",
       "    'common_dividends': -14467000000,\n",
       "    'other_financing_charges': -6685000000,\n",
       "    'financing_cash_flow': -93353000000},\n",
       "   'end_cash_position': 35929000000,\n",
       "   'income_tax_paid': 25385000000,\n",
       "   'interest_paid': 2687000000,\n",
       "   'free_cash_flow': 115123000000},\n",
       "  {'fiscal_date': '2020-09-30',\n",
       "   'operating_activities': {'net_income': 57411000000,\n",
       "    'depreciation': 11056000000,\n",
       "    'deferred_taxes': -215000000,\n",
       "    'stock_based_compensation': 6829000000,\n",
       "    'other_non_cash_items': -97000000,\n",
       "    'accounts_receivable': 8470000000,\n",
       "    'accounts_payable': -4062000000,\n",
       "    'other_assets_liabilities': 1282000000,\n",
       "    'operating_cash_flow': 80674000000},\n",
       "   'investing_activities': {'capital_expenditures': -7309000000,\n",
       "    'net_intangibles': None,\n",
       "    'net_acquisitions': -1524000000,\n",
       "    'purchase_of_investments': -115148000000,\n",
       "    'sale_of_investments': 120483000000,\n",
       "    'other_investing_activity': -791000000,\n",
       "    'investing_cash_flow': -4289000000},\n",
       "   'financing_activities': {'long_term_debt_issuance': 16091000000,\n",
       "    'long_term_debt_payments': -12629000000,\n",
       "    'short_term_debt_issuance': -963000000,\n",
       "    'common_stock_issuance': 880000000,\n",
       "    'common_stock_repurchase': -72358000000,\n",
       "    'common_dividends': -14081000000,\n",
       "    'other_financing_charges': -3760000000,\n",
       "    'financing_cash_flow': -86820000000},\n",
       "   'end_cash_position': 39789000000,\n",
       "   'income_tax_paid': 9501000000,\n",
       "   'interest_paid': 3002000000,\n",
       "   'free_cash_flow': 87983000000},\n",
       "  {'fiscal_date': '2019-09-30',\n",
       "   'operating_activities': {'net_income': 55256000000,\n",
       "    'depreciation': 12547000000,\n",
       "    'deferred_taxes': -340000000,\n",
       "    'stock_based_compensation': 6068000000,\n",
       "    'other_non_cash_items': -652000000,\n",
       "    'accounts_receivable': 3176000000,\n",
       "    'accounts_payable': -1923000000,\n",
       "    'other_assets_liabilities': -4741000000,\n",
       "    'operating_cash_flow': 69391000000},\n",
       "   'investing_activities': {'capital_expenditures': -10495000000,\n",
       "    'net_intangibles': None,\n",
       "    'net_acquisitions': -624000000,\n",
       "    'purchase_of_investments': -40631000000,\n",
       "    'sale_of_investments': 98724000000,\n",
       "    'other_investing_activity': -1078000000,\n",
       "    'investing_cash_flow': 45896000000},\n",
       "   'financing_activities': {'long_term_debt_issuance': 6963000000,\n",
       "    'long_term_debt_payments': -8805000000,\n",
       "    'short_term_debt_issuance': -5977000000,\n",
       "    'common_stock_issuance': 781000000,\n",
       "    'common_stock_repurchase': -66897000000,\n",
       "    'common_dividends': -14119000000,\n",
       "    'other_financing_charges': -2922000000,\n",
       "    'financing_cash_flow': -90976000000},\n",
       "   'end_cash_position': 50224000000,\n",
       "   'income_tax_paid': 15263000000,\n",
       "   'interest_paid': 3423000000,\n",
       "   'free_cash_flow': 79886000000},\n",
       "  {'fiscal_date': '2018-09-30',\n",
       "   'operating_activities': {'net_income': 59531000000,\n",
       "    'depreciation': 10903000000,\n",
       "    'deferred_taxes': -32590000000,\n",
       "    'stock_based_compensation': 5340000000,\n",
       "    'other_non_cash_items': -444000000,\n",
       "    'accounts_receivable': -13332000000,\n",
       "    'accounts_payable': 9175000000,\n",
       "    'other_assets_liabilities': 38851000000,\n",
       "    'operating_cash_flow': 77434000000},\n",
       "   'investing_activities': {'capital_expenditures': -13313000000,\n",
       "    'net_intangibles': None,\n",
       "    'net_acquisitions': -721000000,\n",
       "    'purchase_of_investments': -73227000000,\n",
       "    'sale_of_investments': 104072000000,\n",
       "    'other_investing_activity': -745000000,\n",
       "    'investing_cash_flow': 16066000000},\n",
       "   'financing_activities': {'long_term_debt_issuance': 6969000000,\n",
       "    'long_term_debt_payments': -6500000000,\n",
       "    'short_term_debt_issuance': -37000000,\n",
       "    'common_stock_issuance': 669000000,\n",
       "    'common_stock_repurchase': -72738000000,\n",
       "    'common_dividends': -13712000000,\n",
       "    'other_financing_charges': -2527000000,\n",
       "    'financing_cash_flow': -87876000000},\n",
       "   'end_cash_position': 25913000000,\n",
       "   'income_tax_paid': 10417000000,\n",
       "   'interest_paid': 3022000000,\n",
       "   'free_cash_flow': 90747000000}]}"
      ]
     },
     "execution_count": 39,
     "metadata": {},
     "output_type": "execute_result"
    }
   ],
   "source": [
    "requests.get(\n",
    "    url + 'cash_flow?symbol=AAPL&apikey=' + api\n",
    ").json()"
   ]
  },
  {
   "cell_type": "markdown",
   "id": "4266c271",
   "metadata": {},
   "source": [
    "# Earnings"
   ]
  },
  {
   "cell_type": "code",
   "execution_count": 42,
   "id": "0d5e2fbd",
   "metadata": {},
   "outputs": [
    {
     "data": {
      "text/plain": [
       "{'code': 400,\n",
       " 'message': 'No earning were found for the AAPL instrument.',\n",
       " 'status': 'error'}"
      ]
     },
     "execution_count": 42,
     "metadata": {},
     "output_type": "execute_result"
    }
   ],
   "source": [
    "requests.get(\n",
    "    url + 'earnings?symbol=AAPL&apikey=' + api\n",
    ").json()"
   ]
  },
  {
   "cell_type": "markdown",
   "id": "a364e519",
   "metadata": {},
   "source": [
    "# Fund Holders"
   ]
  },
  {
   "cell_type": "code",
   "execution_count": 43,
   "id": "82dd40df",
   "metadata": {
    "collapsed": true
   },
   "outputs": [
    {
     "data": {
      "text/plain": [
       "{'meta': {'symbol': 'AAPL',\n",
       "  'name': 'Apple Inc',\n",
       "  'currency': 'USD',\n",
       "  'exchange': 'NASDAQ',\n",
       "  'exchange_timezone': 'America/New_York'},\n",
       " 'fund_holders': [{'entity_name': 'Vanguard Total Stock Market Index Fund',\n",
       "   'date_reported': '2021-09-30',\n",
       "   'shares': 443797660,\n",
       "   'value': 62797368890,\n",
       "   'percent_held': 0.0271},\n",
       "  {'entity_name': 'Vanguard 500 Index Fund',\n",
       "   'date_reported': '2021-09-30',\n",
       "   'shares': 329777051,\n",
       "   'value': 46663452716,\n",
       "   'percent_held': 0.0201},\n",
       "  {'entity_name': 'SPDR S&P 500 ETF Trust',\n",
       "   'date_reported': '2021-09-30',\n",
       "   'shares': 166047529,\n",
       "   'value': 23495725353,\n",
       "   'percent_held': 0.0101},\n",
       "  {'entity_name': 'Fidelity 500 Index Fund',\n",
       "   'date_reported': '2021-10-31',\n",
       "   'shares': 152173622,\n",
       "   'value': 22795608575,\n",
       "   'percent_held': 0.0093},\n",
       "  {'entity_name': 'Invesco ETF Tr-Invesco QQQ Tr, Series 1 ETF',\n",
       "   'date_reported': '2021-10-31',\n",
       "   'shares': 145254426,\n",
       "   'value': 21759113014,\n",
       "   'percent_held': 0.0089},\n",
       "  {'entity_name': 'iShares Core S&P 500 ETF',\n",
       "   'date_reported': '2021-10-31',\n",
       "   'shares': 126799246,\n",
       "   'value': 18994527050,\n",
       "   'percent_held': 0.0077},\n",
       "  {'entity_name': 'Vanguard Growth Index Fund',\n",
       "   'date_reported': '2021-09-30',\n",
       "   'shares': 123943890,\n",
       "   'value': 17538060435,\n",
       "   'percent_held': 0.0076},\n",
       "  {'entity_name': 'Vanguard Institutional Index Fund-Institutional Index Fund',\n",
       "   'date_reported': '2021-09-30',\n",
       "   'shares': 120488732,\n",
       "   'value': 17049155578,\n",
       "   'percent_held': 0.0073},\n",
       "  {'entity_name': 'Vanguard Information Technology Index Fund',\n",
       "   'date_reported': '2021-08-31',\n",
       "   'shares': 78154698,\n",
       "   'value': 11866227797,\n",
       "   'percent_held': 0.0047999998},\n",
       "  {'entity_name': 'Select Sector SPDR Fund-Technology',\n",
       "   'date_reported': '2021-09-30',\n",
       "   'shares': 66565625,\n",
       "   'value': 9419035937,\n",
       "   'percent_held': 0.0041}]}"
      ]
     },
     "execution_count": 43,
     "metadata": {},
     "output_type": "execute_result"
    }
   ],
   "source": [
    "requests.get(\n",
    "    url + 'fund_holders?symbol=AAPL&apikey=' + api\n",
    ").json()"
   ]
  },
  {
   "cell_type": "markdown",
   "id": "e9038957",
   "metadata": {},
   "source": [
    "# WebScoket"
   ]
  },
  {
   "cell_type": "code",
   "execution_count": null,
   "id": "15f3768d",
   "metadata": {},
   "outputs": [],
   "source": [
    "pip install twelvedata\n",
    "\n",
    "from twelvedata import TDClient\n",
    "\n",
    "def on_event(e):\n",
    "    # do whatever is needed with data\n",
    "    print(e)\n",
    "    \n",
    "td = TDClient(apikey=\"YOUR_API_KEY_HERE\")\n",
    "ws = td.websocket(symbols=\"BTC/USD\", on_event=on_event)\n",
    "ws.subscribe(['ETH/BTC', 'AAPL'])\n",
    "ws.connect()\n",
    "ws.keep_alive()"
   ]
  }
 ],
 "metadata": {
  "kernelspec": {
   "display_name": "Python 3 (ipykernel)",
   "language": "python",
   "name": "python3"
  },
  "language_info": {
   "codemirror_mode": {
    "name": "ipython",
    "version": 3
   },
   "file_extension": ".py",
   "mimetype": "text/x-python",
   "name": "python",
   "nbconvert_exporter": "python",
   "pygments_lexer": "ipython3",
   "version": "3.8.8"
  }
 },
 "nbformat": 4,
 "nbformat_minor": 5
}
